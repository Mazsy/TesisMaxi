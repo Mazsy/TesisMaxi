{
 "cells": [
  {
   "cell_type": "code",
   "execution_count": 3,
   "metadata": {},
   "outputs": [],
   "source": [
    "from selenium import webdriver\n",
    "from selenium.webdriver.common.by import By\n",
    "from selenium.webdriver.common.keys  import Keys"
   ]
  },
  {
   "cell_type": "code",
   "execution_count": 34,
   "metadata": {},
   "outputs": [
    {
     "name": "stdout",
     "output_type": "stream",
     "text": [
      "['', 'https://www.pagina12.com.ar/secciones/universidad-diario/notas', 'https://www.pagina12.com.ar/85753-sobre-llovido-em-class-highlight-reforma-em-em-class-highlig', 'https://www.pagina12.com.ar/autores/40265-felipe-yapur', 'https://www.pagina12.com.ar/secciones/el-mundo/notas', 'https://www.pagina12.com.ar/secciones/ciudad/notas', 'https://www.pagina12.com.ar/77618-em-class-highlight-reforma-em-em-class-highlight-laboral-em', 'https://www.pagina12.com.ar/secciones/pirulo/notas', 'https://www.pagina12.com.ar/autores/661-eduardo-febbro', 'https://www.pagina12.com.ar/79899-presion-por-la-em-class-highlight-reforma-em-em-class-highli', 'https://www.pagina12.com.ar/autores/872-laura-vales', None, 'https://www.pagina12.com.ar/60151-marche-una-em-class-highlight-reforma-em-em-class-highlight-', 'https://www.pagina12.com.ar/163108-contra-la-em-class-highlight-reforma-em-em-class-highlight-l', 'https://www.pagina12.com.ar/75031-movilizados-contra-la-em-class-highlight-reforma-em-em-class', 'https://www.pagina12.com.ar/76444-em-class-highlight-reforma-em-em-class-highlight-laboral-em', 'https://www.pagina12.com.ar/autores/651-david-cufre', 'https://www.pagina12.com.ar/55078-em-class-highlight-reforma-em-em-class-highlight-laboral-em', 'https://www.pagina12.com.ar/75595-em-class-highlight-reforma-em-em-class-highlight-laboral-em', 'https://www.pagina12.com.ar/65032-em-class-highlight-reforma-em-em-class-highlight-laboral-em-', 'https://www.pagina12.com.ar/53878-em-class-highlight-reforma-em-em-class-highlight-laboral-em', 'https://www.pagina12.com.ar/secciones/el-pais/notas', 'https://www.pagina12.com.ar/secciones/economia/notas', 'https://www.pagina12.com.ar/63773-sin-em-class-highlight-reforma-em-em-class-highlight-laboral', 'https://www.pagina12.com.ar/64597-macron-firmo-su-em-class-highlight-reforma-em-em-class-highl', 'https://www.pagina12.com.ar/76658-criticas-a-la-em-class-highlight-reforma-em-em-class-highlig', 'https://www.pagina12.com.ar/secciones/correo/notas']\n"
     ]
    }
   ],
   "source": [
    "from selenium.webdriver.common.action_chains import ActionChains\n",
    "\n",
    "\n",
    "website = 'https://www.pagina12.com.ar/secciones/economia'\n",
    "path = './chromedriver'\n",
    "\n",
    "driver = webdriver.Chrome(path)\n",
    "driver.get(website)\n",
    "searchBarXpath = '//*[@id=\"mobile-menu\"]/div[4]/div/form/input'\n",
    "search_bar = driver.find_element_by_xpath(searchBarXpath);\n",
    "search_bar.send_keys('\"reforma laboral\"')\n",
    "search_bar.send_keys(Keys.RETURN)\n",
    "for i in range(4):\n",
    "    tagsa = driver.find_element_by_xpath('//*[@id=\"list-container\"]/div/div[2]/div[1]/div[1]/div/div[1]/a[1]')\n",
    "    actions = ActionChains(driver)\n",
    "    actions.click(tagsa).perform()\n",
    "                                       \n",
    "#Buscamos  los href ocultas en  las etiquetas  <a>\n",
    "headings = driver.find_elements_by_class_name('article-list')\n",
    "links_list = []\n",
    "for heading in headings:\n",
    "    links = heading.find_elements_by_tag_name('a')\n",
    "    for l in links:\n",
    "        links_list.append(l.get_attribute('href'),)\n",
    "        \n",
    "\n",
    "links_list = list(set(links_list))#limpieza, pues la  imagen\n",
    "                                   #y titulo tambien lleva al mismo link.\n",
    "print(links_list)"
   ]
  },
  {
   "cell_type": "code",
   "execution_count": 35,
   "metadata": {},
   "outputs": [
    {
     "data": {
      "text/plain": [
       "27"
      ]
     },
     "execution_count": 35,
     "metadata": {},
     "output_type": "execute_result"
    }
   ],
   "source": [
    "len(links_list)"
   ]
  },
  {
   "cell_type": "markdown",
   "metadata": {},
   "source": [
    "aca deberian haber 14 links, pero toma links adjuntos a la imagen. Esto se pueede solucionar sacando despues de www.pagina12.com.ar/\"letra\",\n",
    "Pues se observó que los links valiosos estan en los que  despues del url comienza con numeros."
   ]
  },
  {
   "cell_type": "code",
   "execution_count": null,
   "metadata": {},
   "outputs": [],
   "source": []
  }
 ],
 "metadata": {
  "kernelspec": {
   "display_name": "Python 3",
   "language": "python",
   "name": "python3"
  },
  "language_info": {
   "codemirror_mode": {
    "name": "ipython",
    "version": 3
   },
   "file_extension": ".py",
   "mimetype": "text/x-python",
   "name": "python",
   "nbconvert_exporter": "python",
   "pygments_lexer": "ipython3",
   "version": "3.8.5"
  }
 },
 "nbformat": 4,
 "nbformat_minor": 4
}
